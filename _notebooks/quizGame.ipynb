{
 "cells": [
  {
   "cell_type": "code",
   "execution_count": 2,
   "id": "f9f92e45",
   "metadata": {},
   "outputs": [
    {
     "name": "stdout",
     "output_type": "stream",
     "text": [
      "Hello hello.\n",
      "Incorrect.\n",
      "Correct!\n",
      "Correct!\n",
      "Your score is 2/3.\n"
     ]
    }
   ],
   "source": [
    "username = input(\"Hello, enter your name here: \");#asks for user name\n",
    "print(\"Hello \" + username + \".\");#greeting\n",
    "questions={\"What command is used to include other functions that were previously developed?\":\"import\", \n",
    "\"What command is used to evaluate correct or incorrect response in this example?\":\"if\", \n",
    "\"Each 'if' command contains an '_________' to determine a true or false condition?\":\"expression\"\n",
    "}#creates a dictionary with the key being the question and the value being the answer.\n",
    "def quiz():\n",
    "    points=0;#number of questions correct\n",
    "    num=0;#number of questions total\n",
    "    for i in questions:#loops to ask all the questions inside the dictionary\n",
    "        answer = input(\"Question: \" + i);#asks user for answer\n",
    "        if(answer.lower() == questions[i]):#if guess is equal to answer...\n",
    "            print(\"Correct!\");#print correct and add 1 point\n",
    "            points+=1;\n",
    "        else:\n",
    "            print(\"Incorrect.\");#print incorrect\n",
    "        num+=1;#add 1 to the total num ef\n",
    "    print(\"Your score is \" + str(points) + \"/\" + str(num) +\".\");\n",
    "\n",
    "quiz();"
   ]
  }
 ],
 "metadata": {
  "kernelspec": {
   "display_name": "Python 3 (ipykernel)",
   "language": "python",
   "name": "python3"
  },
  "language_info": {
   "codemirror_mode": {
    "name": "ipython",
    "version": 3
   },
   "file_extension": ".py",
   "mimetype": "text/x-python",
   "name": "python",
   "nbconvert_exporter": "python",
   "pygments_lexer": "ipython3",
   "version": "3.10.12"
  }
 },
 "nbformat": 4,
 "nbformat_minor": 5
}
